{
 "cells": [
  {
   "cell_type": "markdown",
   "id": "intimate-reserve",
   "metadata": {},
   "source": [
    "## PHYS 105A:  Introduction to Scientific Computing\n",
    "\n",
    "# Minimization or Maximization\n",
    "\n",
    "IIn this assignment, we will generalize the gradient descent method we learned in class to\n",
    "perform curve fitting."
   ]
  },
  {
   "cell_type": "markdown",
   "id": "coated-crest",
   "metadata": {},
   "source": [
    "* In this assignment, we will model that we are working on experiment.\n",
    "\n",
    "* We will generate mock data that we know the underlaying funciton with noise.\n",
    "\n",
    "* We will then fit a polynomial to it."
   ]
  },
  {
   "cell_type": "code",
   "execution_count": 1,
   "id": "looking-netscape",
   "metadata": {},
   "outputs": [],
   "source": [
    "# Step 1. Import Libraries\n",
    "\n",
    "import numpy as np\n",
    "from matplotlib import pyplot as plt"
   ]
  },
  {
   "cell_type": "code",
   "execution_count": 2,
   "id": "coated-eligibility",
   "metadata": {},
   "outputs": [
    {
     "data": {
      "text/plain": [
       "[<matplotlib.lines.Line2D at 0x113eb8b80>]"
      ]
     },
     "execution_count": 2,
     "metadata": {},
     "output_type": "execute_result"
    },
    {
     "data": {
      "image/png": "[encoded data removed]",
      "text/plain": [
       "<Figure size 432x288 with 1 Axes>"
      ]
     },
     "metadata": {
      "needs_background": "light"
     },
     "output_type": "display_data"
    }
   ],
   "source": [
    "# Step 2. Create our model and add noise to it.\n",
    "\n",
    "def signal(t):\n",
    "    A = 8\n",
    "    B = 16\n",
    "    C = -2\n",
    "    return A + B * t + C * t * t\n",
    "\n",
    "N = 101\n",
    "T = np.linspace(0, 10, N)\n",
    "X = signal(T) + np.random.normal(size=N)\n",
    "\n",
    "plt.plot(X)"
   ]
  },
  {
   "cell_type": "markdown",
   "id": "06176dd4-821d-43f9-b481-44486bdd8678",
   "metadata": {},
   "source": [
    "In order to fit a function $y = f(x)$ to the data points, we need to define the \"goodness\" of a fit and then maximize the \"goodness\".\n",
    "\n",
    "Or, alternative, we can define the \"error\" $\\chi^2$:\n",
    "$$\n",
    "\\chi^2 = \\sum_{n=1}^n \\frac{|f(x_i) - y_i|^2}{n}\n",
    "$$\n",
    "and minimize this error.\n",
    "\n",
    "More explicitly, assuming a \"model\" $f(x) = f(x; a, b, c, ...)$, where $a$, $b$, $c$, ... are parameters of the model, we want to minimize $\\chi^2(a, b, c, ...)$ with respect to the parameters $a$, $b$, $c$, ..."
   ]
  },
  {
   "cell_type": "code",
   "execution_count": null,
   "id": "61fea944-5e9e-40b2-8823-796c4dd8524d",
   "metadata": {},
   "outputs": [],
   "source": [
    "# Step 3. Define what we need for curve fitting\n",
    "#\n",
    "# Define chi-square as functions of the function parameters.\n",
    "#\n",
    "# Define the partial derivative of chi-square with respect to the parameters.\n",
    "# \n",
    "# Note, using function closure, we don't need to use T and X as function arguments!\n",
    "\n",
    "def chisq(________):\n",
    "    ________\n",
    "\n",
    "def chisq_a(________):\n",
    "    ________\n",
    "    \n",
    "def chisq_b(________):\n",
    "    ________\n",
    "\n",
    "def chisq_c(________):\n",
    "    ________"
   ]
  },
  {
   "cell_type": "code",
   "execution_count": 3,
   "id": "different-lighter",
   "metadata": {},
   "outputs": [],
   "source": [
    "# Step 4. Modify the gradient descent method that we implemented during the lecture\n",
    "#\n",
    "# In the lecture, we fitted f(x) and f(x, y).  How many parameters do we have in chisq()?\n",
    "# How do we generalize minimize() to support more parameters?\n",
    "\n",
    "________"
   ]
  },
  {
   "cell_type": "code",
   "execution_count": null,
   "id": "9b0e6741-e6a3-41aa-8f6c-3f6c2922fc64",
   "metadata": {},
   "outputs": [],
   "source": [
    "# Step 5. Fit the curve\n",
    "#\n",
    "# Note that the initial guess and the step size are important.\n",
    "# Try to adjust them to make the the fitting work.\n",
    "\n",
    "try:\n",
    "    l1 = minimize(chisq, ________)\n",
    "except Exception as e:\n",
    "    print('Failed')\n",
    "    l1 = e.args[1]\n",
    "    \n",
    "print(l1)"
   ]
  },
  {
   "cell_type": "code",
   "execution_count": null,
   "id": "413d5ae8-4def-46d7-8b81-b588e4b7f921",
   "metadata": {},
   "outputs": [],
   "source": [
    "# Step 6. Overplot the data and the results\n",
    "\n",
    "________"
   ]
  },
  {
   "cell_type": "markdown",
   "id": "experimental-blogger",
   "metadata": {},
   "source": [
    "## Question\n",
    "\n",
    "We learned in the lecture, and tried it in this assignment that the step size is important.  If we choose too small a step size, the numerical scheme may be unstable and oscillate around the true solution forever.\n",
    "\n",
    "Can we simply choose a very small step size?  What are the advantage and disadvantage of it?\n",
    "\n",
    "Describe a strategy to adjust the step size so that the minimizer is more robust.\n",
    "\n",
    "Please write down your answer in the next cell."
   ]
  },
  {
   "cell_type": "markdown",
   "id": "married-hobby",
   "metadata": {},
   "source": [
    "#________"
   ]
  }
 ],
 "metadata": {
  "kernelspec": {
   "display_name": "Python 3 (ipykernel)",
   "language": "python",
   "name": "python3"
  },
  "language_info": {
   "codemirror_mode": {
    "name": "ipython",
    "version": 3
   },
   "file_extension": ".py",
   "mimetype": "text/x-python",
   "name": "python",
   "nbconvert_exporter": "python",
   "pygments_lexer": "ipython3",
   "version": "3.10.4"
  }
 },
 "nbformat": 4,
 "nbformat_minor": 5
}
